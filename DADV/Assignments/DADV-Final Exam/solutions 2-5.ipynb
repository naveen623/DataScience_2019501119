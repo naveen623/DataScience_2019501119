{
 "cells": [
  {
   "cell_type": "markdown",
   "metadata": {},
   "source": [
    "# 2.\tIf we define daily gain or loss of a stock is the % of change of the stock closing price to previous day closing price. Compute daily gain or loss for each S&P500 company. Do the same thing for weekly and monthly gains or losses. "
   ]
  },
  {
   "cell_type": "code",
   "execution_count": 1,
   "metadata": {},
   "outputs": [],
   "source": [
    "#importing required necessary libraries to perform analysis.\n",
    "import pandas as pd\n",
    "import numpy as np\n",
    "import matplotlib.pyplot as plt\n",
    "from itertools import combinations"
   ]
  },
  {
   "cell_type": "code",
   "execution_count": 2,
   "metadata": {},
   "outputs": [
    {
     "name": "stderr",
     "output_type": "stream",
     "text": [
      "\n",
      "\n",
      "====== WebDriver manager ======\n",
      "Current google-chrome version is 90.0.4430\n",
      "Get LATEST driver version for 90.0.4430\n",
      "Driver [C:\\Users\\Naveen\\.wdm\\drivers\\chromedriver\\win32\\90.0.4430.24\\chromedriver.exe] found in cache\n"
     ]
    },
    {
     "name": "stdout",
     "output_type": "stream",
     "text": [
      "505\n"
     ]
    }
   ],
   "source": [
    "#improting necessary libraries to scrape the data.\n",
    "#using pool method to multiprocessing for download faster.\n",
    "import requests\n",
    "import urllib\n",
    "from bs4 import BeautifulSoup\n",
    "import re\n",
    "import io\n",
    "import gzip\n",
    "import time\n",
    "import csv\n",
    "import os\n",
    "from selenium import webdriver\n",
    "from selenium.webdriver.common.keys import Keys\n",
    "from webdriver_manager.chrome import ChromeDriverManager\n",
    "from multiprocessing import Pool\n",
    "import import_ipynb\n",
    "import pandas as pd\n",
    "from ipynb.fs.full.scraping_daily_data import scraping_daily_data\n",
    "\n",
    "driver = webdriver.Chrome(ChromeDriverManager().install())\n",
    "url = \"https://en.wikipedia.org/wiki/List_of_S%26P_500_companies\"\n",
    "driver.get(url)\n",
    "\n",
    "symbols = list()\n",
    "symbols_GICC = dict()\n",
    "\n",
    "table = \"/html/body/div[3]/div[3]/div[5]/div[1]/table[1]\"\n",
    "table = driver.find_element_by_xpath(table)\n",
    "elements = table.find_elements_by_tag_name(\"tr\")[1:]\n",
    "\n",
    "for row in elements:\n",
    "    data = [data.text for data in row.find_elements_by_tag_name(\"td\")]\n",
    "    #here i am storung all the data related to a date in a dictioanry.\n",
    "    symbols.append(data[0])\n",
    "    symbols_GICC[data[0]] = data[3]\n",
    "\n",
    "print(len(symbols_GICC))"
   ]
  },
  {
   "cell_type": "code",
   "execution_count": 3,
   "metadata": {},
   "outputs": [],
   "source": [
    "#here computing daily gain or loss for each company for daily stocks, weekly an dmonthly\n",
    "gain_loss_daily = pd.DataFrame(columns=[\"symbol\",\"gain_loss\",\"GICS\"])\n",
    "gain_loss_weekly = pd.DataFrame(columns=[\"symbol\",\"gain_loss\",\"GICS\"])\n",
    "gain_loss_monthly = pd.DataFrame(columns=[\"symbol\",\"gain_loss\",\"GICS\"])"
   ]
  },
  {
   "cell_type": "code",
   "execution_count": 4,
   "metadata": {},
   "outputs": [],
   "source": [
    "\n",
    "daily_dfs = {}\n",
    "weekly_dfs = {}\n",
    "monthly_dfs = {}\n",
    "\n",
    "\n",
    "def gain_loss(sym):\n",
    "    #DAILY\n",
    "    #reading the csv file every file ends with daily for daily stock.\n",
    "    df_daily = pd.read_csv(sym +\"_daily\" + \".csv\")\n",
    "    #here as told in question, applying formula. previous day-present closing price/present clsoing price.\n",
    "    #here shit(1) means it takes the previous available value in dataframe.\n",
    "    df_daily[\"Gain/Loss\"] = (df_daily[\"Close\"] - df_daily[\"Close\"].shift(1)) / df_daily[\"Close\"]\n",
    "    \n",
    "    #here daily gain/loss is gievn for every ticker symbol.\n",
    "    daily_dfs[sym] = df_daily\n",
    "    \n",
    "    #WEEKLY\n",
    "    df_weekly = pd.read_csv(sym +\"_weekly\"+\".csv\")\n",
    "    df_weekly[\"Gain/Loss\"] = (df_weekly[\"Close\"] - df_weekly[\"Close\"].shift(1)) / df_weekly[\"Close\"]\n",
    "    weekly_dfs[sym] = df_weekly\n",
    "    \n",
    "    #MONTHLY\n",
    "    df_monthly = pd.read_csv(sym + \"_monthly\" + \".csv\")\n",
    "    df_monthly[\"Gain/Loss\"] = (df_monthly[\"Close\"] - df_monthly[\"Close\"].shift(1)) / df_weekly[\"Close\"]\n",
    "    monthly_dfs[sym] = df_monthly\n",
    "    \n",
    "    #Here creating a dictionary to store all the gain/loss for all symbols by calling the gain_loss method.\n",
    "    daily = {\"symbol\":sym,\"gain_loss\":df_daily[\"Gain/Loss\"].sum(),\"GICS\":symbols_GICC[sym]}\n",
    "    weekly = {\"symbol\":sym,\"gain_loss\":df_weekly[\"Gain/Loss\"].sum(),\"GICS\":symbols_GICC[sym]}\n",
    "    monthly = {\"symbol\":sym,\"gain_loss\":df_monthly[\"Gain/Loss\"].sum(),\"GICS\":symbols_GICC[sym]}\n",
    "    \n",
    "    return (daily,weekly,monthly)\n",
    "\n"
   ]
  },
  {
   "cell_type": "code",
   "execution_count": 5,
   "metadata": {},
   "outputs": [],
   "source": [
    "for n in symbols:\n",
    "    try:\n",
    "        (daily,weekly,monthly) = gain_loss(n)\n",
    "        #now inserting all the method call values in dataframes created earlier.\n",
    "        gain_loss_daily = gain_loss_daily.append(daily, ignore_index=True)\n",
    "        #here for each df, creating an index and 3 columsn.\n",
    "        gain_loss_weekly = gain_loss_weekly.append(weekly, ignore_index=True)\n",
    "        gain_loss_monthly = gain_loss_monthly.append(monthly, ignore_index=True)\n",
    "    except Exception as e:\n",
    "        pass"
   ]
  },
  {
   "cell_type": "code",
   "execution_count": 6,
   "metadata": {},
   "outputs": [
    {
     "name": "stdout",
     "output_type": "stream",
     "text": [
      "Empty DataFrame\n",
      "Columns: [symbol, gain_loss, GICS]\n",
      "Index: []\n",
      "Empty DataFrame\n",
      "Columns: [symbol, gain_loss, GICS]\n",
      "Index: []\n",
      "Empty DataFrame\n",
      "Columns: [symbol, gain_loss, GICS]\n",
      "Index: []\n"
     ]
    }
   ],
   "source": [
    "print(gain_loss_daily)\n",
    "print(gain_loss_weekly)\n",
    "print(gain_loss_monthly)"
   ]
  },
  {
   "cell_type": "markdown",
   "metadata": {},
   "source": [
    "# 3.\tTop 25 gainers of S&P 500 for 1000 trading days are the companies which have max % gain during those 1000 trading days. Bottom 25 gainers of S&P 500 for 1000 trading days are the companies which have least % gain (it can be negative gain too which is loss) during those 1000 trading days. Compute and draw the correlation matrix for the top 25 and bottom 25 companies for daily gains or losses. This is a matrix with both axes holding the stock names. The color of each cell is the correlation between that pair of stocks: red for -1 and blue for 1. Do the same thing for weekly and monthly gains or losses."
   ]
  },
  {
   "cell_type": "code",
   "execution_count": 7,
   "metadata": {
    "scrolled": false
   },
   "outputs": [
    {
     "data": {
      "text/html": [
       "<style  type=\"text/css\" >\n",
       "</style><table id=\"T_270ff_\" ><thead></thead><tbody>\n",
       "        </tbody></table>"
      ],
      "text/plain": [
       "<pandas.io.formats.style.Styler at 0x2a6535fe280>"
      ]
     },
     "execution_count": 7,
     "metadata": {},
     "output_type": "execute_result"
    }
   ],
   "source": [
    "#sorting the values as it asked for top values only.\n",
    "gain_loss_daily = gain_loss_daily.sort_values(by=[\"gain_loss\"])\n",
    "\n",
    "#this gives us the top 25 gain values\n",
    "gain_25_daily = gain_loss_daily.head(25)\n",
    "\n",
    "#this gives bottom loss values\n",
    "loss_25_daily = gain_loss_daily.tail(25)\n",
    "\n",
    "#here ticker symbols are company names\n",
    "gain_25_daily_names = list(gain_25_daily[\"symbol\"])\n",
    "loss_25_daily_names = list(loss_25_daily[\"symbol\"])\n",
    "\n",
    "#now for correlation matrix we need to find the combined relation by combining gain and loss names.\n",
    "names = set(loss_25_daily_names+gain_25_daily_names)\n",
    "samp = pd.DataFrame(columns=names,index=names)\n",
    "\n",
    "for n1,n2 in combinations(names,2):\n",
    "    df1 = daily_dfs[n1]\n",
    "    df2 = daily_dfs[n2]\n",
    "    samp.loc[n1,n2] = df1[\"Gain/Loss\"].corr(df2[\"Gain/Loss\"])\n",
    "    samp.loc[n2,n1] = df2[\"Gain/Loss\"].corr(df1[\"Gain/Loss\"])\n",
    "    samp.loc[n1,n1] = 1\n",
    "    samp.loc[n2,n2] = 1\n",
    "daily_samp = samp.astype({name:\"float\" for name in names})\n",
    "daily_samp.style.background_gradient(cmap=\"brg\")"
   ]
  },
  {
   "cell_type": "markdown",
   "metadata": {},
   "source": [
    "#Correlation matrix for Weekly data"
   ]
  },
  {
   "cell_type": "code",
   "execution_count": 8,
   "metadata": {},
   "outputs": [
    {
     "data": {
      "text/html": [
       "<style  type=\"text/css\" >\n",
       "</style><table id=\"T_cf2fa_\" ><thead></thead><tbody>\n",
       "        </tbody></table>"
      ],
      "text/plain": [
       "<pandas.io.formats.style.Styler at 0x2a6590bb280>"
      ]
     },
     "execution_count": 8,
     "metadata": {},
     "output_type": "execute_result"
    }
   ],
   "source": [
    "gain_loss_weekly = gain_loss_weekly.sort_values(by=[\"gain_loss\"])\n",
    "gain_25_daily = gain_loss_weekly.head(25)\n",
    "loss_25_daily = gain_loss_weekly.tail(25)\n",
    "\n",
    "gain_25_daily_names = list(gain_25_daily[\"symbol\"])\n",
    "loss_25_daily_names = list(loss_25_daily[\"symbol\"])\n",
    "names = set(loss_25_daily_names+gain_25_daily_names)\n",
    "samp = pd.DataFrame(columns=names,index=names)\n",
    "for n1,n2 in combinations(names,2):\n",
    "    df1 = daily_dfs[n1]\n",
    "    df2 = daily_dfs[n2]\n",
    "    samp.loc[n1,n2] = df1[\"Gain/Loss\"].corr(df2[\"Gain/Loss\"])\n",
    "    samp.loc[n2,n1] = df2[\"Gain/Loss\"].corr(df1[\"Gain/Loss\"])\n",
    "    samp.loc[n1,n1] = 1\n",
    "    samp.loc[n2,n2] = 1\n",
    "weekly_samp = samp.astype({name:\"float\" for name in names})\n",
    "weekly_samp.style.background_gradient(cmap=\"brg\")"
   ]
  },
  {
   "cell_type": "markdown",
   "metadata": {},
   "source": [
    "#Correlation matrix for monthly data"
   ]
  },
  {
   "cell_type": "code",
   "execution_count": 9,
   "metadata": {},
   "outputs": [
    {
     "data": {
      "text/html": [
       "<style  type=\"text/css\" >\n",
       "</style><table id=\"T_a42f9_\" ><thead></thead><tbody>\n",
       "        </tbody></table>"
      ],
      "text/plain": [
       "<pandas.io.formats.style.Styler at 0x2a65468d6a0>"
      ]
     },
     "execution_count": 9,
     "metadata": {},
     "output_type": "execute_result"
    }
   ],
   "source": [
    "gain_loss_monthly = gain_loss_monthly.sort_values(by=[\"gain_loss\"])\n",
    "gain_25_daily = gain_loss_monthly.head(25)\n",
    "loss_25_daily = gain_loss_monthly.tail(25)\n",
    "\n",
    "gain_25_daily_names = list(gain_25_daily[\"symbol\"])\n",
    "loss_25_daily_names = list(loss_25_daily[\"symbol\"])\n",
    "\n",
    "names = set(loss_25_daily_names+gain_25_daily_names)\n",
    "samp = pd.DataFrame(columns=names,index=names)\n",
    "for n1,n2 in combinations(names,2):\n",
    "    df1 = daily_dfs[n1]\n",
    "    df2 = daily_dfs[n2]\n",
    "    samp.loc[n1,n2] = df1[\"Gain/Loss\"].corr(df2[\"Gain/Loss\"])\n",
    "    samp.loc[n2,n1] = df2[\"Gain/Loss\"].corr(df1[\"Gain/Loss\"])\n",
    "    samp.loc[n1,n1] = 1\n",
    "    samp.loc[n2,n2] = 1\n",
    "monthly_samp = samp.astype({name:\"float\" for name in names})\n",
    "monthly_samp.style.background_gradient(cmap=\"brg\")"
   ]
  },
  {
   "cell_type": "markdown",
   "metadata": {},
   "source": [
    "# 4.\tFor each company in top 25 and bottom 25, identify their GICS sectors from https://en.wikipedia.org/wiki/List_of_S%26P_500_companies and draw a bar graph depicting number of top 25 and bottom 25 belongs to that sector.  Do the same thing for weekly and monthly data. "
   ]
  },
  {
   "cell_type": "code",
   "execution_count": 10,
   "metadata": {},
   "outputs": [
    {
     "data": {
      "text/plain": [
       "<matplotlib.legend.Legend at 0x2a65b536820>"
      ]
     },
     "execution_count": 10,
     "metadata": {},
     "output_type": "execute_result"
    },
    {
     "data": {
      "image/png": "[encoded data removed]",
      "text/plain": [
       "<Figure size 432x288 with 1 Axes>"
      ]
     },
     "metadata": {
      "needs_background": "light"
     },
     "output_type": "display_data"
    }
   ],
   "source": [
    "#here we take the top and bottom 25 values to plot the bar graph.\n",
    "top_25 = dict(gain_loss_daily[\"GICS\"].head(25).value_counts())\n",
    "bottom_25 = dict(gain_loss_daily[\"GICS\"].tail(25).value_counts())\n",
    "labels = set(list(top_25.keys()) + list(bottom_25.keys()))\n",
    "\n",
    "\n",
    "for lab in labels:\n",
    "    if lab in top_25:\n",
    "        pass\n",
    "    else:\n",
    "        top_25[lab] = 0\n",
    "    if lab in bottom_25:\n",
    "        pass\n",
    "    else:\n",
    "        bottom_25[lab] = 0\n",
    "#here we use plt library to draw the bar graph. by giving appropriate colors.\n",
    "w = 0.2\n",
    "ind = np.arange(len(labels))\n",
    "ind2 = [i+w for i in ind]\n",
    "plt.bar(ind,top_25.values(),w,color=\"r\",label=\"top\")\n",
    "plt.bar(ind2,bottom_25.values(),w,color=\"b\",label=\"bottom\")\n",
    "#for x- axis we give gisc sectors\n",
    "plt.xlabel(\"gisc\")\n",
    "#for y - axis we give frequency.\n",
    "plt.ylabel(\"frequency\")\n",
    "plt.xticks(ind+w/2,labels,rotation=90)\n",
    "plt.title(\"daily\")\n",
    "plt.legend()"
   ]
  },
  {
   "cell_type": "code",
   "execution_count": 11,
   "metadata": {},
   "outputs": [
    {
     "data": {
      "text/plain": [
       "<matplotlib.legend.Legend at 0x2a65b5af100>"
      ]
     },
     "execution_count": 11,
     "metadata": {},
     "output_type": "execute_result"
    },
    {
     "data": {
      "image/png": "[encoded data removed]",
      "text/plain": [
       "<Figure size 432x288 with 1 Axes>"
      ]
     },
     "metadata": {
      "needs_background": "light"
     },
     "output_type": "display_data"
    }
   ],
   "source": [
    "#here we take the top and bottom 25 values to plot the bar graph.\n",
    "top_25 = dict(gain_loss_weekly[\"GICS\"].head(25).value_counts())\n",
    "bottom_25 = dict(gain_loss_weekly[\"GICS\"].tail(25).value_counts())\n",
    "labels = set(list(top_25.keys()) + list(bottom_25.keys()))\n",
    "\n",
    "\n",
    "for lab in labels:\n",
    "    if lab in top_25:\n",
    "        pass\n",
    "    else:\n",
    "        top_25[lab] = 0\n",
    "    if lab in bottom_25:\n",
    "        pass\n",
    "    else:\n",
    "        bottom_25[lab] = 0\n",
    "#here we use plt library to draw the bar graph. by giving appropriate colors.\n",
    "w = 0.2\n",
    "ind = np.arange(len(labels))\n",
    "ind2 = [i+w for i in ind]\n",
    "plt.bar(ind,top_25.values(),w,color=\"r\",label=\"top\")\n",
    "plt.bar(ind2,bottom_25.values(),w,color=\"b\",label=\"bottom\")\n",
    "#for x- axis we give gisc sectors\n",
    "plt.xlabel(\"gisc\")\n",
    "#for y - axis we give frequency.\n",
    "plt.ylabel(\"frequency\")\n",
    "plt.xticks(ind+w/2,labels,rotation=90)\n",
    "plt.title(\"weekly\")\n",
    "plt.legend()"
   ]
  },
  {
   "cell_type": "code",
   "execution_count": 12,
   "metadata": {},
   "outputs": [
    {
     "data": {
      "text/plain": [
       "<matplotlib.legend.Legend at 0x2a65b5f5460>"
      ]
     },
     "execution_count": 12,
     "metadata": {},
     "output_type": "execute_result"
    },
    {
     "data": {
      "image/png": "[encoded data removed]",
      "text/plain": [
       "<Figure size 432x288 with 1 Axes>"
      ]
     },
     "metadata": {
      "needs_background": "light"
     },
     "output_type": "display_data"
    }
   ],
   "source": [
    "#here we take the top and bottom 25 values to plot the bar graph.\n",
    "top_25 = dict(gain_loss_monthly[\"GICS\"].head(25).value_counts())\n",
    "bottom_25 = dict(gain_loss_monthly[\"GICS\"].tail(25).value_counts())\n",
    "labels = set(list(top_25.keys()) + list(bottom_25.keys()))\n",
    "\n",
    "\n",
    "for lab in labels:\n",
    "    if lab in top_25:\n",
    "        pass\n",
    "    else:\n",
    "        top_25[lab] = 0\n",
    "    if lab in bottom_25:\n",
    "        pass\n",
    "    else:\n",
    "        bottom_25[lab] = 0\n",
    "#here we use plt library to draw the bar graph. by giving appropriate colors.\n",
    "w = 0.2\n",
    "ind = np.arange(len(labels))\n",
    "ind2 = [i+w for i in ind]\n",
    "plt.bar(ind,top_25.values(),w,color=\"r\",label=\"top\")\n",
    "plt.bar(ind2,bottom_25.values(),w,color=\"b\",label=\"bottom\")\n",
    "#for x- axis we give gisc sectors\n",
    "plt.xlabel(\"gisc\")\n",
    "#for y - axis we give frequency.\n",
    "plt.ylabel(\"frequency\")\n",
    "plt.xticks(ind+w/2,labels,rotation=90)\n",
    "plt.title(\"monthly\")\n",
    "plt.legend()"
   ]
  },
  {
   "cell_type": "markdown",
   "metadata": {},
   "source": [
    "# 5.\tFor the top 2 companies, find the maximum negatively correlated companies in the remaining 48 companies from the correlation matrix.  Using Tornado templates, draw sparkline plots of the 4 companies of their daily gains or losses in the same chart. Do the same thing for weekly and monthly gains or losses. Do the same thing for bottom 2 companies. Convert these files into PDF without using a browser. "
   ]
  },
  {
   "cell_type": "code",
   "execution_count": 13,
   "metadata": {},
   "outputs": [],
   "source": [
    "import base64\n",
    "\n",
    "#for the purpose of building a spark line graph, we have to write this spark line method.\n",
    "#parameters passed are data we pass about the 2 and 48 compnaies.\n",
    "\n",
    "def spark_line(data, figsize=(4, 0.25), **kwags):\n",
    "    \"\"\"\n",
    "    This method will Returns a HTML image tag containing a base64 encoded sparkline style plot\n",
    "    \"\"\"\n",
    "    data = list(data)\n",
    "\n",
    "    fig, ax = plt.subplots(1, 1, figsize=figsize, **kwags)\n",
    "    ax.plot(data)\n",
    "    for k,v in ax.spines.items():\n",
    "        v.set_visible(False)\n",
    "    ax.set_xticks([])\n",
    "    ax.set_yticks([])\n",
    "\n",
    "    plt.plot(len(data) - 1, data[len(data) - 1], 'r.')\n",
    "\n",
    "    ax.fill_between(range(len(data)), data, len(data)*[min(data)], alpha=0.1)\n",
    "    \n",
    "    #IO.bytes() will convert the web text to bytes and then embeds as an spark line image.\n",
    "    img = io.BytesIO()\n",
    "    plt.savefig(img, transparent=True, bbox_inches='tight')\n",
    "    img.seek(0)\n",
    "    plt.close()\n",
    "\n",
    "    return base64.b64encode(img.read()).decode(\"UTF-8\")"
   ]
  },
  {
   "cell_type": "code",
   "execution_count": 14,
   "metadata": {},
   "outputs": [],
   "source": [
    "#Finding the negatively correlated companies for the top 2 companies - DAILY\n",
    "top_four = list()\n",
    "top_2 = gain_loss_daily.head(2)\n",
    "\n",
    "#checking for the symbols and sorting values for each symbol.\n",
    "for sym in top_2[\"symbol\"]:\n",
    "    tsym = daily_samp[sym].sort_values().index[0]\n",
    "    top_four.append(sym)\n",
    "    top_four.append(tsym)\n",
    "    \n",
    "#in this we use dropna() method to avoid the NA/NaN values in data.\n",
    "all_values = list()\n",
    "for num in top_four:\n",
    "    val = list(daily_dfs[num][\"Gain/Loss\"].dropna().values)\n",
    "    all_values.append(val)\n",
    "    \n",
    "#It opens the sparline for comparision.\n",
    "with open(\"spark1.html\", \"a\") as file:\n",
    "        file.write('<div>Daily top</div>')\n",
    "        for value in all_values:\n",
    "            file.write('<div><img src=\"data:image/png;base64,{}\"/></div>'.format(spark_line(value)))\n",
    "        file.write('<div></div>')\n",
    "\n",
    "#Doing the same above process in the bottom 2 companies.\n",
    "bottom_four = list()\n",
    "bottom_2 = gain_loss_daily.tail(2)\n",
    "for sym in bottom_2[\"symbol\"]:\n",
    "    tsym = daily_samp[sym].sort_values().index[0]\n",
    "    bottom_four.append(sym)\n",
    "    bottom_four.append(tsym)\n",
    "all_values = list()\n",
    "\n",
    "for num in bottom_four:\n",
    "    val = list(daily_dfs[num][\"Gain/Loss\"].dropna().values)\n",
    "    all_values.append(val)\n",
    "    \n",
    "with open(\"spark1.html\", \"a\") as file:\n",
    "        file.write('<div>Daily bottom</div>')\n",
    "        for value in all_values:\n",
    "            file.write('<div><img src=\"data:image/png;base64,{}\"/></div>'.format(spark_line(value)))\n",
    "        file.write('<div></div>')"
   ]
  },
  {
   "cell_type": "code",
   "execution_count": 15,
   "metadata": {},
   "outputs": [],
   "source": [
    "#Finding the negatively correlated companies for the top 2 companies - weekly\n",
    "top_four = list()\n",
    "top_2 = gain_loss_weekly.head(2)\n",
    "\n",
    "#checking for the symbols and sorting values for each symbol.\n",
    "for sym in top_2[\"symbol\"]:\n",
    "    tsym = weekly_samp[sym].sort_values().index[0]\n",
    "    top_four.append(sym)\n",
    "    top_four.append(tsym)\n",
    "    \n",
    "#in this we use dropna() method to avoid the NA/NaN values in data.\n",
    "all_values = list()\n",
    "for num in top_four:\n",
    "    val = list(weekly_dfs[num][\"Gain/Loss\"].dropna().values)\n",
    "    all_values.append(val)\n",
    "    \n",
    "#It opens the sparline for comparision.\n",
    "with open(\"spark1.html\", \"a\") as file:\n",
    "        file.write('<div>Weekly top</div>')\n",
    "        for value in all_values:\n",
    "            file.write('<div><img src=\"data:image/png;base64,{}\"/></div>'.format(spark_line(value)))\n",
    "        file.write('<div></div>')\n",
    "\n",
    "#Doing the same above process in the bottom 2 companies.\n",
    "bottom_four = list()\n",
    "bottom_2 = gain_loss_weekly.tail(2)\n",
    "for sym in bottom_2[\"symbol\"]:\n",
    "    tsym = weekly_samp[sym].sort_values().index[0]\n",
    "    bottom_four.append(sym)\n",
    "    bottom_four.append(tsym)\n",
    "all_values = list()\n",
    "\n",
    "for num in bottom_four:\n",
    "    val = list(weekly_dfs[num][\"Gain/Loss\"].dropna().values)\n",
    "    all_values.append(val)\n",
    "    \n",
    "with open(\"spark1.html\", \"a\") as file:\n",
    "        file.write('<div>Weekly bottom</div>')\n",
    "        for value in all_values:\n",
    "            file.write('<div><img src=\"data:image/png;base64,{}\"/></div>'.format(spark_line(value)))\n",
    "        file.write('<div></div>')"
   ]
  },
  {
   "cell_type": "code",
   "execution_count": 16,
   "metadata": {},
   "outputs": [],
   "source": [
    "#Finding the negatively correlated companies for the top 2 companies - monthly\n",
    "top_four = list()\n",
    "top_2 = gain_loss_monthly.head(2)\n",
    "\n",
    "#checking for the symbols and sorting values for each symbol.\n",
    "for sym in top_2[\"symbol\"]:\n",
    "    tsym = monthly_samp[sym].sort_values().index[0]\n",
    "    top_four.append(sym)\n",
    "    top_four.append(tsym)\n",
    "    \n",
    "#in this we use dropna() method to avoid the NA/NaN values in data.\n",
    "all_values = list()\n",
    "for num in top_four:\n",
    "    val = list(monthly_dfs[num][\"Gain/Loss\"].dropna().values)\n",
    "    all_values.append(val)\n",
    "    \n",
    "#It opens the sparline for comparision.\n",
    "with open(\"spark1.html\", \"a\") as file:\n",
    "        file.write('<div>Monthly top</div>')\n",
    "        for value in all_values:\n",
    "            file.write('<div><img src=\"data:image/png;base64,{}\"/></div>'.format(spark_line(value)))\n",
    "        file.write('<div></div>')\n",
    "\n",
    "#Doing the same above process in the bottom 2 companies.\n",
    "bottom_four = list()\n",
    "bottom_2 = gain_loss_monthly.tail(2)\n",
    "for sym in bottom_2[\"symbol\"]:\n",
    "    tsym = monthly_samp[sym].sort_values().index[0]\n",
    "    bottom_four.append(sym)\n",
    "    bottom_four.append(tsym)\n",
    "all_values = list()\n",
    "\n",
    "for num in bottom_four:\n",
    "    val = list(monthly_dfs[num][\"Gain/Loss\"].dropna().values)\n",
    "    all_values.append(val)\n",
    "    \n",
    "with open(\"spark1.html\", \"a\") as file:\n",
    "        file.write('<div>Monthly bottom</div>')\n",
    "        for value in all_values:\n",
    "            file.write('<div><img src=\"data:image/png;base64,{}\"/></div>'.format(spark_line(value)))\n",
    "        file.write('<div></div>')"
   ]
  },
  {
   "cell_type": "code",
   "execution_count": 17,
   "metadata": {},
   "outputs": [
    {
     "name": "stdout",
     "output_type": "stream",
     "text": [
      "Collecting pdfcrowd\n",
      "  Using cached pdfcrowd-5.1.3-py2.py3-none-any.whl (39 kB)\n",
      "Installing collected packages: pdfcrowd\n",
      "Successfully installed pdfcrowd-5.1.3\n",
      "Note: you may need to restart the kernel to use updated packages.\n"
     ]
    }
   ],
   "source": [
    "pip install pdfcrowd"
   ]
  },
  {
   "cell_type": "code",
   "execution_count": 18,
   "metadata": {},
   "outputs": [],
   "source": [
    "import pdfcrowd\n",
    "\n",
    "client = pdfcrowd.HtmlToPdfClient('demo', 'ce544b6ea52a5621fb9d55f8b542d14d')\n",
    "client.convertFileToFile('spark1.html', 'spark1.pdf')"
   ]
  },
  {
   "cell_type": "code",
   "execution_count": null,
   "metadata": {},
   "outputs": [],
   "source": []
  }
 ],
 "metadata": {
  "kernelspec": {
   "display_name": "Python 3",
   "language": "python",
   "name": "python3"
  },
  "language_info": {
   "codemirror_mode": {
    "name": "ipython",
    "version": 3
   },
   "file_extension": ".py",
   "mimetype": "text/x-python",
   "name": "python",
   "nbconvert_exporter": "python",
   "pygments_lexer": "ipython3",
   "version": "3.8.3"
  }
 },
 "nbformat": 4,
 "nbformat_minor": 5
}
